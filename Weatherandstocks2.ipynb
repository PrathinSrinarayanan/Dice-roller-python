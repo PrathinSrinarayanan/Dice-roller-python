{
  "nbformat": 4,
  "nbformat_minor": 0,
  "metadata": {
    "colab": {
      "provenance": [],
      "authorship_tag": "ABX9TyO2JQroO9LB86U54zyplS6V",
      "include_colab_link": true
    },
    "kernelspec": {
      "name": "python3",
      "display_name": "Python 3"
    },
    "language_info": {
      "name": "python"
    }
  },
  "cells": [
    {
      "cell_type": "markdown",
      "metadata": {
        "id": "view-in-github",
        "colab_type": "text"
      },
      "source": [
        "<a href=\"https://colab.research.google.com/github/PrathinSrinarayanan/Python-Class-Projects/blob/main/Weatherandstocks2.ipynb\" target=\"_parent\"><img src=\"https://colab.research.google.com/assets/colab-badge.svg\" alt=\"Open In Colab\"/></a>"
      ]
    },
    {
      "cell_type": "markdown",
      "source": [
        "# Current location weather finder"
      ],
      "metadata": {
        "id": "3Khd4kbMB1n7"
      }
    },
    {
      "cell_type": "code",
      "source": [
        "import requests\n",
        "\n",
        "# Get user input for latitude and longitude\n",
        "lat = input(\"Enter latitude: \")\n",
        "lon = input(\"Enter longitude: \")\n",
        "\n",
        "# OpenWeatherMap API URL and API key\n",
        "api_key = \"3168385325ad057be97689c76b7f2bcb\"\n",
        "url = f\"http://api.openweathermap.org/data/2.5/weather?lat={lat}&lon={lon}&appid={api_key}\"\n",
        "\n",
        "# Send a GET request to the specified URL\n",
        "response = requests.get(url)\n",
        "\n",
        "# Check if the request was successful\n",
        "if response.status_code == 200:\n",
        "    # Parse the JSON response data\n",
        "        data = response.json()\n",
        "\n",
        "            # Access the temperature field and convert it from Kelvin to Celsius\n",
        "        temperature_kelvin = data[\"main\"][\"temp\"]\n",
        "        temperature_celsius = temperature_kelvin - 273.15\n",
        "\n",
        "        feels_like_kelvin = data[\"main\"][\"feels_like\"]\n",
        "        feels_like_celsius = feels_like_kelvin - 273.15\n",
        "        city_name = data['name']\n",
        "print(f\"In {city_name}:\")\n",
        "print(f\"The current temperature is {temperature_celsius:.2f} degrees Celsius.\")\n",
        "print(f\"But it feels like it is {feels_like_celsius:.2f} degrees Celsius\")"
      ],
      "metadata": {
        "colab": {
          "base_uri": "https://localhost:8080/"
        },
        "id": "TG4EVgoAhFm9",
        "outputId": "327d86a1-ac66-4d85-ef69-e3fcb006737f"
      },
      "execution_count": 37,
      "outputs": [
        {
          "output_type": "stream",
          "name": "stdout",
          "text": [
            "Enter latitude: 40.71\n",
            "Enter longitude: -74.00\n",
            "In New York:\n",
            "The current temperature is 24.29 degrees Celsius.\n",
            "But it feels like it is 24.37 degrees Celsius\n"
          ]
        }
      ]
    }
  ]
}