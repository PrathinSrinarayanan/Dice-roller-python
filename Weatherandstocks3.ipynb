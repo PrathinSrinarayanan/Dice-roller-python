{
  "nbformat": 4,
  "nbformat_minor": 0,
  "metadata": {
    "colab": {
      "provenance": [],
      "authorship_tag": "ABX9TyMWAoONdRbQdD52CYGGJ3Z8",
      "include_colab_link": true
    },
    "kernelspec": {
      "name": "python3",
      "display_name": "Python 3"
    },
    "language_info": {
      "name": "python"
    }
  },
  "cells": [
    {
      "cell_type": "markdown",
      "metadata": {
        "id": "view-in-github",
        "colab_type": "text"
      },
      "source": [
        "<a href=\"https://colab.research.google.com/github/PrathinSrinarayanan/Python-Class-Projects/blob/main/Weatherandstocks3.ipynb\" target=\"_parent\"><img src=\"https://colab.research.google.com/assets/colab-badge.svg\" alt=\"Open In Colab\"/></a>"
      ]
    },
    {
      "cell_type": "markdown",
      "source": [
        "# NVIDIA Stock price"
      ],
      "metadata": {
        "id": "3Khd4kbMB1n7"
      }
    },
    {
      "cell_type": "code",
      "source": [
        "# Import the requests library to handle API requests\n",
        "import requests\n",
        "\n",
        "# Define the URL for the API request, (Note: This API is real-time.) specifying the latitude and longitude\n",
        "# for the location (Chicago in this case)\n",
        "url = \"https://www.alphavantage.co/query?function=GLOBAL_QUOTE&symbol=NVDA&apikey=D8FMDS8ZEUOYTK5A\"\n",
        "\n",
        "# Send a GET request to the specified URL\n",
        "response = requests.get(url)\n",
        "\n",
        "# Parse the JSON response data\n",
        "data = response.json()\n",
        "# Print the current temperature and its unit\n",
        "# Access the \"temperature_2m\" field from the \"current\" section and\n",
        "# the unit of the \"temperature_2m\" field from the \"current_units\"\n",
        "# section of the JSON response\n",
        "stock_price = data[\"Global Quote\"][\"05. price\"]\n",
        "print(f'The stock price of NVIDIA is {stock_price} dollars.')"
      ],
      "metadata": {
        "colab": {
          "base_uri": "https://localhost:8080/"
        },
        "id": "9gRs2WDO-j4M",
        "outputId": "8e83cef0-395f-4183-cbfd-dad407180f9d"
      },
      "execution_count": null,
      "outputs": [
        {
          "output_type": "stream",
          "name": "stdout",
          "text": [
            "The stock price of NVIDIA is 135.5800 dollars.\n"
          ]
        }
      ]
    }
  ]
}