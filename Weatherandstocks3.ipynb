{
  "nbformat": 4,
  "nbformat_minor": 0,
  "metadata": {
    "colab": {
      "provenance": [],
      "authorship_tag": "ABX9TyOIP0unFz29SycEcES0CEXT",
      "include_colab_link": true
    },
    "kernelspec": {
      "name": "python3",
      "display_name": "Python 3"
    },
    "language_info": {
      "name": "python"
    }
  },
  "cells": [
    {
      "cell_type": "markdown",
      "metadata": {
        "id": "view-in-github",
        "colab_type": "text"
      },
      "source": [
        "<a href=\"https://colab.research.google.com/github/PrathinSrinarayanan/Python-Class-Projects/blob/main/Weatherandstocks3.ipynb\" target=\"_parent\"><img src=\"https://colab.research.google.com/assets/colab-badge.svg\" alt=\"Open In Colab\"/></a>"
      ]
    },
    {
      "cell_type": "markdown",
      "source": [
        "#Stock Program\n"
      ],
      "metadata": {
        "id": "fUdWHydTYJvC"
      }
    },
    {
      "cell_type": "code",
      "source": [
        "# Import the requests library to handle API requests\n",
        "import requests\n",
        "\n",
        "url = \"https://www.alphavantage.co/query?function=GLOBAL_QUOTE&symbol=NVDA&apikey=D8FMDS8ZEUOYTK5A\"\n",
        "# Send a GET request to the specified URL\n",
        "response = requests.get(url)\n",
        "\n",
        "# Parse the JSON response data\n",
        "data = response.json()\n",
        "# Print the current temperature and its unit\n",
        "# Access the \"temperature_2m\" field from the \"current\" section and\n",
        "# the unit of the \"temperature_2m\" field from the \"current_units\"\n",
        "# section of the JSON response\n",
        "stockprice = data[\"Global Quote\"][\"05. price\"]\n",
        "print(f'{stockprice}')"
      ],
      "metadata": {
        "id": "BDqxVyTHYpza",
        "colab": {
          "base_uri": "https://localhost:8080/"
        },
        "outputId": "00b47fd7-f14e-4de1-bc49-3a88c8431745"
      },
      "execution_count": 8,
      "outputs": [
        {
          "output_type": "stream",
          "name": "stdout",
          "text": [
            "130.9800\n"
          ]
        }
      ]
    }
  ]
}