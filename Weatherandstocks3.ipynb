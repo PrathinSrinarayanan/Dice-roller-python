{
  "nbformat": 4,
  "nbformat_minor": 0,
  "metadata": {
    "colab": {
      "provenance": [],
      "authorship_tag": "ABX9TyN7OT4PhaBWLQ3FRac7NEaW",
      "include_colab_link": true
    },
    "kernelspec": {
      "name": "python3",
      "display_name": "Python 3"
    },
    "language_info": {
      "name": "python"
    }
  },
  "cells": [
    {
      "cell_type": "markdown",
      "metadata": {
        "id": "view-in-github",
        "colab_type": "text"
      },
      "source": [
        "<a href=\"https://colab.research.google.com/github/PrathinSrinarayanan/Python-Class-Projects/blob/main/Weatherandstocks3.ipynb\" target=\"_parent\"><img src=\"https://colab.research.google.com/assets/colab-badge.svg\" alt=\"Open In Colab\"/></a>"
      ]
    },
    {
      "cell_type": "markdown",
      "source": [
        "# Stock Market Price Finder"
      ],
      "metadata": {
        "id": "JMoOt7Cb9_UT"
      }
    },
    {
      "cell_type": "markdown",
      "source": [
        "*NVIDIA, Tesla, Freshdesk, JPMorgan Chase, Microsoft, Dow Jones.*"
      ],
      "metadata": {
        "id": "pFWOwYvv_W1g"
      }
    },
    {
      "cell_type": "code",
      "source": [
        "import requests\n",
        "\n",
        "# Define stocks using tuples\n",
        "stocks = [\n",
        "(\"AAPL\", \"Apple Inc\"),\n",
        "(\"NVDA\", \"NVIDIA Corporation\"),\n",
        "(\"T\", \"AT&T\"),\n",
        "(\"DIA\", \"SPDR Dow Jones Industrial Average ETF Trust\"),\n",
        "(\"MSFT\", \"Microsoft Corporation\")\n",
        "]\n",
        "\n",
        "# Your Alpha Vantage API key\n",
        "api_key = \"GTOFHBHOV60QAWEH\"\n",
        "\n",
        "# Function to get the current stock price\n",
        "def get_stock_price(symbol):\n",
        "  # API endpoint with the stock symbol and API key\n",
        "  url = f\"https://www.alphavantage.co/query?function=GLOBAL_QUOTE&symbol={symbol}&apikey={api_key}\"\n",
        "\n",
        "  # Send a GET request to the API\n",
        "  response = requests.get(url)\n",
        "\n",
        "  # Parse the JSON response\n",
        "  data = response.json()\n",
        "\n",
        "  # Check if the response contains the 'Global Quote' data\n",
        "  if \"Global Quote\" in data and \"05. price\" in data[\"Global Quote\"]:\n",
        "    # Return the stock price\n",
        "    return data[\"Global Quote\"][\"05. price\"]\n",
        "  else:\n",
        "    # Return None if the data is not available\n",
        "    return None\n",
        "\n",
        "    # Loop through each stock in the stocks list\n",
        "    for stock in stocks:\n",
        "      # Unpack the tuple into symbol and name\n",
        "      symbol, name = stock\n",
        "\n",
        "      # Get the stock price using the symbol\n",
        "      price = get_stock_price(symbol)\n",
        "\n",
        "      # Check if the price was successfully retrieved\n",
        "      if price:\n",
        "      # Print the stock price\n",
        "        print(f\"The current price of {name} ({symbol}) is ${price}\")\n",
        "    else:\n",
        "      # Print an error message if the price could not be retrieved\n",
        "        print(f\"Failed to retrieve the price for {name} ({symbol})\")"
      ],
      "metadata": {
        "id": "b6iFq_NyQwHH"
      },
      "execution_count": 20,
      "outputs": []
    }
  ]
}